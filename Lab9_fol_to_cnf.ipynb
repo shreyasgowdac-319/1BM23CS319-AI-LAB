{
  "nbformat": 4,
  "nbformat_minor": 0,
  "metadata": {
    "colab": {
      "provenance": [],
      "include_colab_link": true
    },
    "kernelspec": {
      "name": "python3",
      "display_name": "Python 3"
    },
    "language_info": {
      "name": "python"
    }
  },
  "cells": [
    {
      "cell_type": "markdown",
      "metadata": {
        "id": "view-in-github",
        "colab_type": "text"
      },
      "source": [
        "<a href=\"https://colab.research.google.com/github/shreyasgowdac-319/1BM23CS319-AI-LAB/blob/main/Lab9_fol_to_cnf.ipynb\" target=\"_parent\"><img src=\"https://colab.research.google.com/assets/colab-badge.svg\" alt=\"Open In Colab\"/></a>"
      ]
    },
    {
      "cell_type": "code",
      "execution_count": null,
      "metadata": {
        "id": "DscRIkJjJ_v5"
      },
      "outputs": [],
      "source": [
        "import re\n",
        "import itertools\n",
        "\n",
        "\n",
        "\n",
        "def remove_implications(expr):\n",
        "\n",
        "    expr = re.sub(r'\\(([^()]*)->([^()]*)\\)', r'(¬\\1∨\\2)', expr)\n",
        "    expr = expr.replace('->', '∨')\n",
        "    return expr\n",
        "\n",
        "def move_negations(expr):\n",
        "    expr = expr.replace('¬(¬', '(')\n",
        "    expr = expr.replace('¬(∀', '∃¬')\n",
        "    expr = expr.replace('¬(∃', '∀¬')\n",
        "    expr = expr.replace('¬(A∧B)', '(¬A∨¬B)')\n",
        "    expr = expr.replace('¬(A∨B)', '(¬A∧¬B)')\n",
        "    return expr\n",
        "\n",
        "def standardize_variables(expr):\n",
        "    vars_seen = {}\n",
        "    counter = itertools.count(1)\n",
        "    def repl(match):\n",
        "        var = match.group(1)\n",
        "        if var not in vars_seen:\n",
        "            vars_seen[var] = f\"x{next(counter)}\"\n",
        "        return vars_seen[var]\n",
        "    return re.sub(r'\\b([a-z])\\b', repl, expr)\n",
        "\n",
        "def skolemize(expr):\n",
        "\n",
        "    return re.sub(r'∃[a-z]\\.', '', expr)\n",
        "\n",
        "def drop_universal(expr):\n",
        "\n",
        "    return re.sub(r'∀[a-z]\\.', '', expr)\n",
        "\n",
        "def distribute(expr):\n",
        "    changed = True\n",
        "    while changed:\n",
        "        new_expr = re.sub(r'\\(([^()]*)∨\\(([^()]*)∧([^()]*)\\)\\)',\n",
        "                          r'((\\1∨\\2)∧(\\1∨\\3))', expr)\n",
        "        new_expr = re.sub(r'\\(\\(([^()]*)∧([^()]*)\\)∨([^()]*)\\)',\n",
        "                          r'((\\1∨\\3)∧(\\2∨\\3))', new_expr)\n",
        "        changed = new_expr != expr\n",
        "        expr = new_expr\n",
        "    return expr\n",
        "\n",
        "def fol_to_cnf(expr):\n",
        "    expr = remove_implications(expr)\n",
        "    expr = move_negations(expr)\n",
        "    expr = standardize_variables(expr)\n",
        "    expr = skolemize(expr)\n",
        "    expr = drop_universal(expr)\n",
        "    expr = distribute(expr)\n",
        "    return expr\n",
        "\n",
        "\n",
        "\n",
        "if __name__ == \"__main__\":\n",
        "    # print(\"=== FOL to CNF Converter ===\")\n",
        "    # print(\"Example syntax: ∀x.(P(x) -> ∃y.Q(y))\")\n",
        "    formula = input(\"Enter your FOL formula: \")\n",
        "\n",
        "    cnf = fol_to_cnf(formula)\n",
        "    print(\"\\n CNF form:\", cnf)\n",
        "\n"
      ]
    }
  ]
}